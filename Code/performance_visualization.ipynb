{
 "cells": [
  {
   "cell_type": "code",
   "execution_count": null,
   "metadata": {},
   "outputs": [],
   "source": [
    "import numpy as np\n",
    "import matplotlib.pyplot as plt\n"
   ]
  },
  {
   "cell_type": "code",
   "execution_count": null,
   "metadata": {},
   "outputs": [],
   "source": [
    "# NMF PMF\n",
    "# KNN:pearson user_based, pearson item_based, consine user_based, consine item_based\n",
    "# DL:user_based,item_based AUTOML\n",
    "rmse_test_1 = [0.9589552143498027, 0.8975825616051656,\n",
    "               0.8719899066475113, 1.6879903695796112, 1.0561891278482352, 1.8348478593627644,\n",
    "               0.9221749416936905, 0.8767345652781093, 0.8950206541477348]\n",
    "rmse_avg_1 = [1.0659558300552174, 0.993488440953712,\n",
    "              0.9375211805091772, 0.9626421881232252, 0.9523682045313374, 1.0233522530850658,\n",
    "              0.9863419503320806, 0.9863419503320806, 1.0083311185434676]\n",
    "rmse_r_1 = [1.9948201651888404, 1.8278959899665663,\n",
    "            1.938803417358715, 1.8118301654804547, 1.9593987593570659, 1.8854336839035468,\n",
    "            2.0036945066179395, 1.8476764851525456, 1.9118292936738492]\n",
    "\n",
    "rmse_test_2 = [0.8283423430725143, 0.6836935127151379,\n",
    "               0.7429704468678072, 0.8763411737262952, 0.9807996480792013, 0.7710169593914895,\n",
    "               0.7405116927214621, 0.8195463570775467, 0.6728123640530519]\n",
    "rmse_avg_2 = [0.9109091311684795,  0.8102853380528096,\n",
    "              0.8028199599603268, 0.9446044350957999, 0.9235606662141217, 0.9478901226752994,\n",
    "              0.893743717036386, 0.893743717036386, 0.8117154223705839]\n",
    "rmse_r_2 = [2.1349695315270982, 2.2349658202874987,\n",
    "            2.092015820170493, 2.2691669222491777, 2.204376041855228, 2.1357461830593576,\n",
    "            2.2076169940961607, 2.189054132416049, 2.1515192990271905]\n"
   ]
  },
  {
   "cell_type": "code",
   "execution_count": null,
   "metadata": {},
   "outputs": [],
   "source": [
    "x = np.arange(9)\n",
    "total_width, n = 0.8, 3\n",
    "width = total_width / n\n",
    "x = x - (total_width - width) / 2\n",
    "label = ['NMF', 'PMF',\n",
    "         'KNN 1', 'KNN 2', 'KNN 3', 'KNN 4',\n",
    "         'AutoRec 1', 'AutoRec 2', 'AutoML']\n",
    "plt.bar(x, rmse_test_1,  width=width, label='test')\n",
    "plt.bar(x + width, rmse_avg_1, width=width, label='average')\n",
    "plt.bar(x + 2*width, rmse_r_1, width=width, label='random')\n",
    "plt.title('Performace in ratings_mini1')\n",
    "plt.ylabel('Root Mean Square Error')\n",
    "plt.legend(loc='best')\n",
    "plt.ylim(0.8, 2.1)\n",
    "plt.xticks(np.arange(9), label, rotation='20')\n",
    "plt.savefig('Performace in ratings_mini1', dpi=900)\n",
    "plt.show()\n"
   ]
  },
  {
   "cell_type": "code",
   "execution_count": null,
   "metadata": {},
   "outputs": [],
   "source": [
    "x = np.arange(9)\n",
    "total_width, n = 0.8, 3\n",
    "width = total_width / n\n",
    "x = x - (total_width - width) / 2\n",
    "label = ['NMF', 'PMF',\n",
    "         'KNN 1', 'KNN 2', 'KNN 3', 'KNN 4',\n",
    "         'AutoRec 1', 'AutoRec 2', 'AutoML']\n",
    "plt.bar(x, rmse_test_2,  width=width, label='test')\n",
    "plt.bar(x + width, rmse_avg_2, width=width, label='average')\n",
    "plt.bar(x + 2*width, rmse_r_2, width=width, label='random')\n",
    "plt.title('Performace in ratings_mini2')\n",
    "plt.ylabel('Root Mean Square Error')\n",
    "plt.legend(loc='best')\n",
    "plt.xticks(np.arange(9), label, rotation='20')\n",
    "plt.ylim(0.6, 2.3)\n",
    "plt.savefig('Performace in ratings_mini2', dpi=900)\n",
    "plt.show()\n"
   ]
  }
 ],
 "metadata": {
  "language_info": {
   "name": "python"
  },
  "orig_nbformat": 4
 },
 "nbformat": 4,
 "nbformat_minor": 2
}
