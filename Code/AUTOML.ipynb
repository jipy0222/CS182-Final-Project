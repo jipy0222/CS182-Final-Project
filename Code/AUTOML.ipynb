{
 "cells": [
  {
   "cell_type": "code",
   "execution_count": 1,
   "metadata": {},
   "outputs": [],
   "source": [
    "import pandas as pd\n",
    "import numpy as np\n"
   ]
  },
  {
   "cell_type": "code",
   "execution_count": 2,
   "metadata": {},
   "outputs": [],
   "source": [
    "movies = pd.read_csv('data/movies.csv')\n",
    "data1 = pd.read_csv('data/ratings_mini_1.csv')\n",
    "data2 = pd.read_csv('data/ratings_mini_2.csv')\n",
    "data3 = pd.read_csv('data/ratings.csv')\n",
    "tags = pd.read_csv('data/tags.csv')\n",
    "\n"
   ]
  },
  {
   "cell_type": "code",
   "execution_count": 3,
   "metadata": {},
   "outputs": [],
   "source": [
    "full1 = pd.merge(data1, movies, on=['movieId'])\n",
    "full2 = pd.merge(data2, movies, on=['movieId'])\n",
    "full3 = pd.merge(data3, movies, on=['movieId'])\n",
    "full1.to_csv('data/ratings_full_1.csv', sep=',', header=True, index=False)\n",
    "full2.to_csv('data/ratings_full_2.csv', sep=',', header=True, index=False)\n",
    "full3.to_csv('data/ratings_full_3.csv', sep=',', header=True, index=False)\n"
   ]
  }
 ],
 "metadata": {
  "kernelspec": {
   "display_name": "Python 3.8.5 64-bit ('base': conda)",
   "name": "python385jvsc74a57bd0760876c14fa8b4ffe2f056ce5cbb90e5015d815bfe41263d78b2238d1d4d731b"
  },
  "language_info": {
   "codemirror_mode": {
    "name": "ipython",
    "version": 3
   },
   "file_extension": ".py",
   "mimetype": "text/x-python",
   "name": "python",
   "nbconvert_exporter": "python",
   "pygments_lexer": "ipython3",
   "version": "3.8.5"
  }
 },
 "nbformat": 4,
 "nbformat_minor": 4
}